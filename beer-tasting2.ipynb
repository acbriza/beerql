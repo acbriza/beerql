{
 "cells": [
  {
   "cell_type": "code",
   "execution_count": 1,
   "metadata": {},
   "outputs": [],
   "source": [
    "import pandas as pd\n",
    "import numpy as np\n",
    "import matplotlib.pyplot as plt\n",
    "%matplotlib inline\n",
    "\n",
    "from data import *\n",
    "from agent import SupplyChain"
   ]
  },
  {
   "cell_type": "code",
   "execution_count": 2,
   "metadata": {},
   "outputs": [],
   "source": [
    "def get_report_df(report):\n",
    "    df = pd.DataFrame.from_dict(report, orient=\"index\").stack().to_frame()\n",
    "    # to break out the lists into columns\n",
    "    df = pd.DataFrame(df[0].values.tolist(), index=df.index)\n",
    "    return df"
   ]
  },
  {
   "cell_type": "code",
   "execution_count": 6,
   "metadata": {},
   "outputs": [],
   "source": [
    "mask43210 = [\"Source\",\"Supplier\",\"Manufacturer\",\"Distributor\",\"Retailer\"] + [\"Cost\"]\n",
    "mask432 = [\"Source\",\"Supplier\",\"Manufacturer\"] + [\"Cost\"]\n",
    "mask321 = [\"Supplier\",\"Manufacturer\",\"Distributor\"] + [\"Cost\"]\n",
    "mask210 = [\"Manufacturer\",\"Distributor\",\"Retailer\"] + [\"Cost\"]"
   ]
  },
  {
   "cell_type": "markdown",
   "metadata": {},
   "source": [
    "### RL Dummy"
   ]
  },
  {
   "cell_type": "code",
   "execution_count": 7,
   "metadata": {},
   "outputs": [],
   "source": [
    "sc = SupplyChain(data=data[MAIN], policy=RLDummy)\n",
    "report = sc.run(5)\n",
    "dfdum = get_report_df(report)"
   ]
  },
  {
   "cell_type": "code",
   "execution_count": 8,
   "metadata": {},
   "outputs": [
    {
     "data": {
      "text/html": [
       "<div>\n",
       "<style scoped>\n",
       "    .dataframe tbody tr th:only-of-type {\n",
       "        vertical-align: middle;\n",
       "    }\n",
       "\n",
       "    .dataframe tbody tr th {\n",
       "        vertical-align: top;\n",
       "    }\n",
       "\n",
       "    .dataframe thead tr th {\n",
       "        text-align: left;\n",
       "    }\n",
       "</style>\n",
       "<table border=\"1\" class=\"dataframe\">\n",
       "  <thead>\n",
       "    <tr>\n",
       "      <th></th>\n",
       "      <th colspan=\"6\" halign=\"left\">Supplier</th>\n",
       "      <th colspan=\"6\" halign=\"left\">Manufacturer</th>\n",
       "      <th colspan=\"6\" halign=\"left\">Distributor</th>\n",
       "      <th>Cost</th>\n",
       "    </tr>\n",
       "    <tr>\n",
       "      <th></th>\n",
       "      <th>received</th>\n",
       "      <th>inventory</th>\n",
       "      <th>policy</th>\n",
       "      <th>lead</th>\n",
       "      <th>orders</th>\n",
       "      <th>forwarded</th>\n",
       "      <th>received</th>\n",
       "      <th>inventory</th>\n",
       "      <th>policy</th>\n",
       "      <th>lead</th>\n",
       "      <th>orders</th>\n",
       "      <th>forwarded</th>\n",
       "      <th>received</th>\n",
       "      <th>inventory</th>\n",
       "      <th>policy</th>\n",
       "      <th>lead</th>\n",
       "      <th>orders</th>\n",
       "      <th>forwarded</th>\n",
       "      <th>cost</th>\n",
       "    </tr>\n",
       "  </thead>\n",
       "  <tbody>\n",
       "    <tr>\n",
       "      <th>0</th>\n",
       "      <td>0</td>\n",
       "      <td>12</td>\n",
       "      <td>NaN</td>\n",
       "      <td>NaN</td>\n",
       "      <td>[]</td>\n",
       "      <td>0</td>\n",
       "      <td>0</td>\n",
       "      <td>12</td>\n",
       "      <td>NaN</td>\n",
       "      <td>NaN</td>\n",
       "      <td>[]</td>\n",
       "      <td>0</td>\n",
       "      <td>0</td>\n",
       "      <td>12</td>\n",
       "      <td>NaN</td>\n",
       "      <td>NaN</td>\n",
       "      <td>[]</td>\n",
       "      <td>4</td>\n",
       "      <td>48</td>\n",
       "    </tr>\n",
       "    <tr>\n",
       "      <th>1</th>\n",
       "      <td>0</td>\n",
       "      <td>12</td>\n",
       "      <td>3</td>\n",
       "      <td>2</td>\n",
       "      <td>[]</td>\n",
       "      <td>0</td>\n",
       "      <td>0</td>\n",
       "      <td>12</td>\n",
       "      <td>3</td>\n",
       "      <td>2</td>\n",
       "      <td>[]</td>\n",
       "      <td>0</td>\n",
       "      <td>0</td>\n",
       "      <td>12</td>\n",
       "      <td>1</td>\n",
       "      <td>2</td>\n",
       "      <td>[]</td>\n",
       "      <td>4</td>\n",
       "      <td>37</td>\n",
       "    </tr>\n",
       "    <tr>\n",
       "      <th>2</th>\n",
       "      <td>0</td>\n",
       "      <td>-3</td>\n",
       "      <td>0</td>\n",
       "      <td>0</td>\n",
       "      <td>[15]</td>\n",
       "      <td>12</td>\n",
       "      <td>0</td>\n",
       "      <td>-1</td>\n",
       "      <td>2</td>\n",
       "      <td>0</td>\n",
       "      <td>[13]</td>\n",
       "      <td>12</td>\n",
       "      <td>0</td>\n",
       "      <td>-1</td>\n",
       "      <td>0</td>\n",
       "      <td>0</td>\n",
       "      <td>[13]</td>\n",
       "      <td>12</td>\n",
       "      <td>20</td>\n",
       "    </tr>\n",
       "    <tr>\n",
       "      <th>3</th>\n",
       "      <td>15</td>\n",
       "      <td>12</td>\n",
       "      <td>2</td>\n",
       "      <td>2</td>\n",
       "      <td>[]</td>\n",
       "      <td>3</td>\n",
       "      <td>12</td>\n",
       "      <td>11</td>\n",
       "      <td>0</td>\n",
       "      <td>2</td>\n",
       "      <td>[]</td>\n",
       "      <td>1</td>\n",
       "      <td>12</td>\n",
       "      <td>-7</td>\n",
       "      <td>0</td>\n",
       "      <td>2</td>\n",
       "      <td>[18]</td>\n",
       "      <td>12</td>\n",
       "      <td>39</td>\n",
       "    </tr>\n",
       "    <tr>\n",
       "      <th>4</th>\n",
       "      <td>0</td>\n",
       "      <td>12</td>\n",
       "      <td>0</td>\n",
       "      <td>4</td>\n",
       "      <td>[]</td>\n",
       "      <td>0</td>\n",
       "      <td>3</td>\n",
       "      <td>14</td>\n",
       "      <td>2</td>\n",
       "      <td>4</td>\n",
       "      <td>[]</td>\n",
       "      <td>0</td>\n",
       "      <td>1</td>\n",
       "      <td>-6</td>\n",
       "      <td>0</td>\n",
       "      <td>4</td>\n",
       "      <td>[]</td>\n",
       "      <td>1</td>\n",
       "      <td>44</td>\n",
       "    </tr>\n",
       "    <tr>\n",
       "      <th>5</th>\n",
       "      <td>0</td>\n",
       "      <td>12</td>\n",
       "      <td>0</td>\n",
       "      <td>4</td>\n",
       "      <td>[]</td>\n",
       "      <td>0</td>\n",
       "      <td>0</td>\n",
       "      <td>-4</td>\n",
       "      <td>1</td>\n",
       "      <td>4</td>\n",
       "      <td>[18]</td>\n",
       "      <td>14</td>\n",
       "      <td>0</td>\n",
       "      <td>-15</td>\n",
       "      <td>1</td>\n",
       "      <td>4</td>\n",
       "      <td>[9]</td>\n",
       "      <td>0</td>\n",
       "      <td>0</td>\n",
       "    </tr>\n",
       "  </tbody>\n",
       "</table>\n",
       "</div>"
      ],
      "text/plain": [
       "  Supplier                                        Manufacturer            \\\n",
       "  received inventory policy lead orders forwarded     received inventory   \n",
       "0        0        12    NaN  NaN     []         0            0        12   \n",
       "1        0        12      3    2     []         0            0        12   \n",
       "2        0        -3      0    0   [15]        12            0        -1   \n",
       "3       15        12      2    2     []         3           12        11   \n",
       "4        0        12      0    4     []         0            3        14   \n",
       "5        0        12      0    4     []         0            0        -4   \n",
       "\n",
       "                               Distributor                               \\\n",
       "  policy lead orders forwarded    received inventory policy lead orders   \n",
       "0    NaN  NaN     []         0           0        12    NaN  NaN     []   \n",
       "1      3    2     []         0           0        12      1    2     []   \n",
       "2      2    0   [13]        12           0        -1      0    0   [13]   \n",
       "3      0    2     []         1          12        -7      0    2   [18]   \n",
       "4      2    4     []         0           1        -6      0    4     []   \n",
       "5      1    4   [18]        14           0       -15      1    4    [9]   \n",
       "\n",
       "            Cost  \n",
       "  forwarded cost  \n",
       "0         4   48  \n",
       "1         4   37  \n",
       "2        12   20  \n",
       "3        12   39  \n",
       "4         1   44  \n",
       "5         0    0  "
      ]
     },
     "execution_count": 8,
     "metadata": {},
     "output_type": "execute_result"
    }
   ],
   "source": [
    "dfdum.T[mask321]"
   ]
  },
  {
   "cell_type": "code",
   "execution_count": 14,
   "metadata": {},
   "outputs": [
    {
     "data": {
      "text/plain": [
       "cost    188\n",
       "dtype: object"
      ]
     },
     "execution_count": 14,
     "metadata": {},
     "output_type": "execute_result"
    }
   ],
   "source": [
    "dfdum.T.Cost.sum()"
   ]
  },
  {
   "cell_type": "markdown",
   "metadata": {},
   "source": [
    "### Passorder"
   ]
  },
  {
   "cell_type": "code",
   "execution_count": 9,
   "metadata": {},
   "outputs": [],
   "source": [
    "sc = SupplyChain(data=data[MAIN], policy=PASS_ORDER)\n",
    "report = sc.run()\n",
    "dfpo = get_report_df(report)"
   ]
  },
  {
   "cell_type": "code",
   "execution_count": 10,
   "metadata": {},
   "outputs": [
    {
     "data": {
      "text/html": [
       "<div>\n",
       "<style scoped>\n",
       "    .dataframe tbody tr th:only-of-type {\n",
       "        vertical-align: middle;\n",
       "    }\n",
       "\n",
       "    .dataframe tbody tr th {\n",
       "        vertical-align: top;\n",
       "    }\n",
       "\n",
       "    .dataframe thead tr th {\n",
       "        text-align: left;\n",
       "    }\n",
       "</style>\n",
       "<table border=\"1\" class=\"dataframe\">\n",
       "  <thead>\n",
       "    <tr>\n",
       "      <th></th>\n",
       "      <th colspan=\"6\" halign=\"left\">Manufacturer</th>\n",
       "      <th colspan=\"6\" halign=\"left\">Distributor</th>\n",
       "      <th colspan=\"6\" halign=\"left\">Retailer</th>\n",
       "      <th>Cost</th>\n",
       "    </tr>\n",
       "    <tr>\n",
       "      <th></th>\n",
       "      <th>received</th>\n",
       "      <th>inventory</th>\n",
       "      <th>policy</th>\n",
       "      <th>lead</th>\n",
       "      <th>orders</th>\n",
       "      <th>forwarded</th>\n",
       "      <th>received</th>\n",
       "      <th>inventory</th>\n",
       "      <th>policy</th>\n",
       "      <th>lead</th>\n",
       "      <th>orders</th>\n",
       "      <th>forwarded</th>\n",
       "      <th>received</th>\n",
       "      <th>inventory</th>\n",
       "      <th>policy</th>\n",
       "      <th>lead</th>\n",
       "      <th>orders</th>\n",
       "      <th>forwarded</th>\n",
       "      <th>cost</th>\n",
       "    </tr>\n",
       "  </thead>\n",
       "  <tbody>\n",
       "    <tr>\n",
       "      <th>0</th>\n",
       "      <td>0</td>\n",
       "      <td>12</td>\n",
       "      <td>NaN</td>\n",
       "      <td>NaN</td>\n",
       "      <td>[]</td>\n",
       "      <td>0</td>\n",
       "      <td>0</td>\n",
       "      <td>12</td>\n",
       "      <td>NaN</td>\n",
       "      <td>NaN</td>\n",
       "      <td>[]</td>\n",
       "      <td>4</td>\n",
       "      <td>0</td>\n",
       "      <td>12</td>\n",
       "      <td>NaN</td>\n",
       "      <td>NaN</td>\n",
       "      <td>[]</td>\n",
       "      <td>0</td>\n",
       "      <td>48</td>\n",
       "    </tr>\n",
       "    <tr>\n",
       "      <th>1</th>\n",
       "      <td>0</td>\n",
       "      <td>12</td>\n",
       "      <td>0</td>\n",
       "      <td>2</td>\n",
       "      <td>[]</td>\n",
       "      <td>0</td>\n",
       "      <td>0</td>\n",
       "      <td>12</td>\n",
       "      <td>0</td>\n",
       "      <td>2</td>\n",
       "      <td>[]</td>\n",
       "      <td>4</td>\n",
       "      <td>4</td>\n",
       "      <td>1</td>\n",
       "      <td>0</td>\n",
       "      <td>2</td>\n",
       "      <td>[15]</td>\n",
       "      <td>15</td>\n",
       "      <td>37</td>\n",
       "    </tr>\n",
       "    <tr>\n",
       "      <th>2</th>\n",
       "      <td>0</td>\n",
       "      <td>2</td>\n",
       "      <td>0</td>\n",
       "      <td>0</td>\n",
       "      <td>[10]</td>\n",
       "      <td>10</td>\n",
       "      <td>0</td>\n",
       "      <td>2</td>\n",
       "      <td>0</td>\n",
       "      <td>0</td>\n",
       "      <td>[10]</td>\n",
       "      <td>10</td>\n",
       "      <td>4</td>\n",
       "      <td>-5</td>\n",
       "      <td>0</td>\n",
       "      <td>0</td>\n",
       "      <td>[10]</td>\n",
       "      <td>5</td>\n",
       "      <td>16</td>\n",
       "    </tr>\n",
       "    <tr>\n",
       "      <th>3</th>\n",
       "      <td>10</td>\n",
       "      <td>12</td>\n",
       "      <td>0</td>\n",
       "      <td>2</td>\n",
       "      <td>[]</td>\n",
       "      <td>0</td>\n",
       "      <td>10</td>\n",
       "      <td>-3</td>\n",
       "      <td>0</td>\n",
       "      <td>2</td>\n",
       "      <td>[15]</td>\n",
       "      <td>12</td>\n",
       "      <td>10</td>\n",
       "      <td>-3</td>\n",
       "      <td>0</td>\n",
       "      <td>2</td>\n",
       "      <td>[8]</td>\n",
       "      <td>10</td>\n",
       "      <td>36</td>\n",
       "    </tr>\n",
       "    <tr>\n",
       "      <th>4</th>\n",
       "      <td>0</td>\n",
       "      <td>12</td>\n",
       "      <td>0</td>\n",
       "      <td>4</td>\n",
       "      <td>[]</td>\n",
       "      <td>0</td>\n",
       "      <td>0</td>\n",
       "      <td>-3</td>\n",
       "      <td>0</td>\n",
       "      <td>4</td>\n",
       "      <td>[]</td>\n",
       "      <td>0</td>\n",
       "      <td>12</td>\n",
       "      <td>-5</td>\n",
       "      <td>0</td>\n",
       "      <td>4</td>\n",
       "      <td>[14]</td>\n",
       "      <td>12</td>\n",
       "      <td>40</td>\n",
       "    </tr>\n",
       "    <tr>\n",
       "      <th>5</th>\n",
       "      <td>0</td>\n",
       "      <td>-3</td>\n",
       "      <td>0</td>\n",
       "      <td>4</td>\n",
       "      <td>[15]</td>\n",
       "      <td>12</td>\n",
       "      <td>0</td>\n",
       "      <td>-11</td>\n",
       "      <td>0</td>\n",
       "      <td>4</td>\n",
       "      <td>[8]</td>\n",
       "      <td>0</td>\n",
       "      <td>0</td>\n",
       "      <td>-14</td>\n",
       "      <td>0</td>\n",
       "      <td>4</td>\n",
       "      <td>[9]</td>\n",
       "      <td>0</td>\n",
       "      <td>68</td>\n",
       "    </tr>\n",
       "  </tbody>\n",
       "</table>\n",
       "</div>"
      ],
      "text/plain": [
       "  Manufacturer                                        Distributor            \\\n",
       "      received inventory policy lead orders forwarded    received inventory   \n",
       "0            0        12    NaN  NaN     []         0           0        12   \n",
       "1            0        12      0    2     []         0           0        12   \n",
       "2            0         2      0    0   [10]        10           0         2   \n",
       "3           10        12      0    2     []         0          10        -3   \n",
       "4            0        12      0    4     []         0           0        -3   \n",
       "5            0        -3      0    4   [15]        12           0       -11   \n",
       "\n",
       "                               Retailer                               \\\n",
       "  policy lead orders forwarded received inventory policy lead orders   \n",
       "0    NaN  NaN     []         4        0        12    NaN  NaN     []   \n",
       "1      0    2     []         4        4         1      0    2   [15]   \n",
       "2      0    0   [10]        10        4        -5      0    0   [10]   \n",
       "3      0    2   [15]        12       10        -3      0    2    [8]   \n",
       "4      0    4     []         0       12        -5      0    4   [14]   \n",
       "5      0    4    [8]         0        0       -14      0    4    [9]   \n",
       "\n",
       "            Cost  \n",
       "  forwarded cost  \n",
       "0         0   48  \n",
       "1        15   37  \n",
       "2         5   16  \n",
       "3        10   36  \n",
       "4        12   40  \n",
       "5         0   68  "
      ]
     },
     "execution_count": 10,
     "metadata": {},
     "output_type": "execute_result"
    }
   ],
   "source": [
    "dfpo.T[mask210].head(6)"
   ]
  },
  {
   "cell_type": "code",
   "execution_count": 15,
   "metadata": {},
   "outputs": [
    {
     "data": {
      "text/plain": [
       "cost    5397\n",
       "dtype: object"
      ]
     },
     "execution_count": 15,
     "metadata": {},
     "output_type": "execute_result"
    }
   ],
   "source": [
    "dfpo.T.Cost.sum()"
   ]
  },
  {
   "cell_type": "markdown",
   "metadata": {},
   "source": [
    "### RL - Cha08 Paper"
   ]
  },
  {
   "cell_type": "code",
   "execution_count": 17,
   "metadata": {},
   "outputs": [],
   "source": [
    "sc = SupplyChain(data=data[MAIN], policy=RLCha08)\n",
    "report = sc.run()\n",
    "dfcha = get_report_df(report)"
   ]
  },
  {
   "cell_type": "code",
   "execution_count": 20,
   "metadata": {},
   "outputs": [
    {
     "data": {
      "text/plain": [
       "cost    4027\n",
       "dtype: object"
      ]
     },
     "execution_count": 20,
     "metadata": {},
     "output_type": "execute_result"
    }
   ],
   "source": [
    "dfcha.T.Cost.sum()"
   ]
  },
  {
   "cell_type": "code",
   "execution_count": 47,
   "metadata": {},
   "outputs": [
    {
     "data": {
      "image/png": "[encoded data removed]",
      "text/plain": [
       "<Figure size 864x576 with 4 Axes>"
      ]
     },
     "metadata": {
      "needs_background": "light"
     },
     "output_type": "display_data"
    }
   ],
   "source": [
    "agents = [\"Supplier\", \"Manufacturer\", \"Distributor\", \"Retailer\"] \n",
    "fig, axes = plt.subplots(2,2, sharey=True, figsize=(12,8))\n",
    "\n",
    "for ax, agent in zip(axes.reshape(-1), agents):\n",
    "    # print (ax, agent)\n",
    "    # continue\n",
    "    ax.plot(dfpo.T[agent][\"inventory\"], label=\"Pass-order\")\n",
    "    ax.plot(dfcha.T[agent][\"inventory\"], label=\"Cha08\")\n",
    "    ax.set_title(agent)\n",
    "    ax.legend()"
   ]
  },
  {
   "cell_type": "code",
   "execution_count": 46,
   "metadata": {},
   "outputs": [
    {
     "data": {
      "text/plain": [
       "Text(0.5, 1.0, 'Cumulative Costs')"
      ]
     },
     "execution_count": 46,
     "metadata": {},
     "output_type": "execute_result"
    },
    {
     "data": {
      "image/png": "[encoded data removed]",
      "text/plain": [
       "<Figure size 576x432 with 1 Axes>"
      ]
     },
     "metadata": {
      "needs_background": "light"
     },
     "output_type": "display_data"
    }
   ],
   "source": [
    "plt.figure(figsize=(8,6))\n",
    "plt.plot(dfpo.T.Cost.cumsum(), label=\"Pass-order\")\n",
    "plt.plot(dfcha.T.Cost.cumsum(), label=\"RL-Cha08\")\n",
    "plt.legend()\n",
    "plt.title(\"Cumulative Costs\")"
   ]
  }
 ],
 "metadata": {
  "kernelspec": {
   "display_name": "Python 3.9.12 ('base')",
   "language": "python",
   "name": "python3"
  },
  "language_info": {
   "codemirror_mode": {
    "name": "ipython",
    "version": 3
   },
   "file_extension": ".py",
   "mimetype": "text/x-python",
   "name": "python",
   "nbconvert_exporter": "python",
   "pygments_lexer": "ipython3",
   "version": "3.9.12"
  },
  "orig_nbformat": 4,
  "vscode": {
   "interpreter": {
    "hash": "5b5a4e91612dee454b95c1e8a38b1ec78bebd4b3da05c68e94500df9b2c81242"
   }
  }
 },
 "nbformat": 4,
 "nbformat_minor": 2
}
