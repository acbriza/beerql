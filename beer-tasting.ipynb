{
 "cells": [
  {
   "cell_type": "code",
   "execution_count": 1,
   "metadata": {},
   "outputs": [],
   "source": [
    "from agent import SCAgent, SupplyChain\n",
    "from data import *\n",
    "import pandas as pd\n",
    "import numpy as np\n",
    "import matplotlib.pyplot as plt"
   ]
  },
  {
   "cell_type": "code",
   "execution_count": 2,
   "metadata": {},
   "outputs": [
    {
     "ename": "AttributeError",
     "evalue": "'SCAgent' object has no attribute 'orders'",
     "output_type": "error",
     "traceback": [
      "\u001b[1;31m---------------------------------------------------------------------------\u001b[0m",
      "\u001b[1;31mAttributeError\u001b[0m                            Traceback (most recent call last)",
      "\u001b[1;32md:\\OneDrive AIM\\OneDrive - ASIAN INSTITUTE OF MANAGEMENT\\0 DISS\\code\\beerql\\beer-tasting.ipynb Cell 2\u001b[0m in \u001b[0;36m<cell line: 2>\u001b[1;34m()\u001b[0m\n\u001b[0;32m      <a href='vscode-notebook-cell:/d%3A/OneDrive%20AIM/OneDrive%20-%20ASIAN%20INSTITUTE%20OF%20MANAGEMENT/0%20DISS/code/beerql/beer-tasting.ipynb#W1sZmlsZQ%3D%3D?line=0'>1</a>\u001b[0m a \u001b[39m=\u001b[39m SCAgent(\u001b[39m1\u001b[39m, \u001b[39m\"\u001b[39m\u001b[39mRetailer\u001b[39m\u001b[39m\"\u001b[39m, \u001b[39m12\u001b[39m, [(\u001b[39m4\u001b[39m,\u001b[39m1\u001b[39m), (\u001b[39m4\u001b[39m,\u001b[39m2\u001b[39m)])\n\u001b[1;32m----> <a href='vscode-notebook-cell:/d%3A/OneDrive%20AIM/OneDrive%20-%20ASIAN%20INSTITUTE%20OF%20MANAGEMENT/0%20DISS/code/beerql/beer-tasting.ipynb#W1sZmlsZQ%3D%3D?line=1'>2</a>\u001b[0m a\u001b[39m.\u001b[39;49morders\n",
      "\u001b[1;31mAttributeError\u001b[0m: 'SCAgent' object has no attribute 'orders'"
     ]
    }
   ],
   "source": [
    "a = SCAgent(1, \"Retailer\", 12, [(4,1), (4,2)])\n",
    "a.orders"
   ]
  },
  {
   "cell_type": "code",
   "execution_count": null,
   "metadata": {},
   "outputs": [],
   "source": [
    "sc = SupplyChain(data=data[MAIN], time_horizon=TIME_HORIZON, policy=PASS_ORDER)"
   ]
  },
  {
   "cell_type": "code",
   "execution_count": null,
   "metadata": {},
   "outputs": [],
   "source": [
    "report = sc.run()"
   ]
  },
  {
   "cell_type": "code",
   "execution_count": null,
   "metadata": {},
   "outputs": [],
   "source": [
    " #df = pd.DataFrame(report)\n",
    " #df"
   ]
  },
  {
   "cell_type": "code",
   "execution_count": null,
   "metadata": {},
   "outputs": [],
   "source": [
    "sum([])"
   ]
  },
  {
   "cell_type": "code",
   "execution_count": null,
   "metadata": {},
   "outputs": [],
   "source": [
    "df = pd.DataFrame.from_dict(report, orient=\"index\").stack().to_frame()\n",
    "# to break out the lists into columns\n",
    "df = pd.DataFrame(df[0].values.tolist(), index=df.index)"
   ]
  },
  {
   "cell_type": "code",
   "execution_count": null,
   "metadata": {},
   "outputs": [],
   "source": [
    "df = df.replace(-sys.maxsize-1, np.NaN).T\n",
    "df\n"
   ]
  },
  {
   "cell_type": "code",
   "execution_count": null,
   "metadata": {},
   "outputs": [],
   "source": [
    "df"
   ]
  },
  {
   "cell_type": "code",
   "execution_count": null,
   "metadata": {},
   "outputs": [],
   "source": [
    "# compute cost\n",
    "#df[\"cost\"] = \n",
    "cost  = 0\n",
    "for agent in [\"Retailer\",  \"Distributor\", \"Manufacturer\", \"Supplier\"]:\n",
    "    c = df[agent][\"inventory\"].apply(lambda x: x if x > 0 else -2*x ).sum()\n",
    "    cost += c\n",
    "    print(agent, c)\n",
    "print(cost)"
   ]
  },
  {
   "cell_type": "code",
   "execution_count": null,
   "metadata": {},
   "outputs": [],
   "source": [
    "df.to_excel(\"temp.xlsx\")"
   ]
  },
  {
   "cell_type": "code",
   "execution_count": null,
   "metadata": {},
   "outputs": [],
   "source": []
  }
 ],
 "metadata": {
  "kernelspec": {
   "display_name": "Python 3.9.12 ('base')",
   "language": "python",
   "name": "python3"
  },
  "language_info": {
   "codemirror_mode": {
    "name": "ipython",
    "version": 3
   },
   "file_extension": ".py",
   "mimetype": "text/x-python",
   "name": "python",
   "nbconvert_exporter": "python",
   "pygments_lexer": "ipython3",
   "version": "3.9.12"
  },
  "orig_nbformat": 4,
  "vscode": {
   "interpreter": {
    "hash": "5b5a4e91612dee454b95c1e8a38b1ec78bebd4b3da05c68e94500df9b2c81242"
   }
  }
 },
 "nbformat": 4,
 "nbformat_minor": 2
}
