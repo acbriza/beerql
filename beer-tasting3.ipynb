{
 "cells": [
  {
   "cell_type": "code",
   "execution_count": 1,
   "metadata": {},
   "outputs": [],
   "source": [
    "%matplotlib inline\n",
    "import gym\n",
    "import itertools\n",
    "import matplotlib\n",
    "import numpy as np\n",
    "import pandas as pd\n",
    "import sys\n",
    "\n",
    "# if \"../\" not in sys.path:\n",
    "#   sys.path.append(\"../\") \n",
    "\n",
    "\n",
    "\n",
    "#from lib import plotting\n",
    "\n",
    "#matplotlib.style.use('ggplot')"
   ]
  },
  {
   "cell_type": "code",
   "execution_count": 2,
   "metadata": {},
   "outputs": [
    {
     "ename": "NameError",
     "evalue": "name 'defaultdict' is not defined",
     "output_type": "error",
     "traceback": [
      "\u001b[1;31m---------------------------------------------------------------------------\u001b[0m",
      "\u001b[1;31mNameError\u001b[0m                                 Traceback (most recent call last)",
      "\u001b[1;32md:\\OneDrive AIM\\OneDrive - ASIAN INSTITUTE OF MANAGEMENT\\0 DISS\\code\\beerql\\beer-tasting3.ipynb Cell 2\u001b[0m in \u001b[0;36m<cell line: 5>\u001b[1;34m()\u001b[0m\n\u001b[0;32m      <a href='vscode-notebook-cell:/d%3A/OneDrive%20AIM/OneDrive%20-%20ASIAN%20INSTITUTE%20OF%20MANAGEMENT/0%20DISS/code/beerql/beer-tasting3.ipynb#W2sZmlsZQ%3D%3D?line=1'>2</a>\u001b[0m \u001b[39mfrom\u001b[39;00m \u001b[39mql\u001b[39;00m \u001b[39mimport\u001b[39;00m q_learning\n\u001b[0;32m      <a href='vscode-notebook-cell:/d%3A/OneDrive%20AIM/OneDrive%20-%20ASIAN%20INSTITUTE%20OF%20MANAGEMENT/0%20DISS/code/beerql/beer-tasting3.ipynb#W2sZmlsZQ%3D%3D?line=3'>4</a>\u001b[0m env \u001b[39m=\u001b[39m BeerGameEnv()\n\u001b[1;32m----> <a href='vscode-notebook-cell:/d%3A/OneDrive%20AIM/OneDrive%20-%20ASIAN%20INSTITUTE%20OF%20MANAGEMENT/0%20DISS/code/beerql/beer-tasting3.ipynb#W2sZmlsZQ%3D%3D?line=4'>5</a>\u001b[0m Q, stats \u001b[39m=\u001b[39m q_learning(env, \u001b[39m500\u001b[39;49m)\n",
      "File \u001b[1;32md:\\OneDrive AIM\\OneDrive - ASIAN INSTITUTE OF MANAGEMENT\\0 DISS\\code\\beerql\\ql.py:43\u001b[0m, in \u001b[0;36mq_learning\u001b[1;34m(env, num_episodes, discount_factor, alpha, epsilon)\u001b[0m\n\u001b[0;32m     24\u001b[0m \u001b[39m\"\"\"\u001b[39;00m\n\u001b[0;32m     25\u001b[0m \u001b[39mQ-Learning algorithm: Off-policy TD control. Finds the optimal greedy policy\u001b[39;00m\n\u001b[0;32m     26\u001b[0m \u001b[39mwhile following an epsilon-greedy policy\u001b[39;00m\n\u001b[1;32m   (...)\u001b[0m\n\u001b[0;32m     38\u001b[0m \u001b[39m    stats is an EpisodeStats object with two numpy arrays for episode_lengths and episode_rewards.\u001b[39;00m\n\u001b[0;32m     39\u001b[0m \u001b[39m\"\"\"\u001b[39;00m\n\u001b[0;32m     41\u001b[0m \u001b[39m# The final action-value function.\u001b[39;00m\n\u001b[0;32m     42\u001b[0m \u001b[39m# A nested dictionary that maps state -> (action -> action-value).\u001b[39;00m\n\u001b[1;32m---> 43\u001b[0m Q \u001b[39m=\u001b[39m defaultdict(\u001b[39mlambda\u001b[39;00m: np\u001b[39m.\u001b[39mzeros(env\u001b[39m.\u001b[39maction_space\u001b[39m.\u001b[39mn))\n\u001b[0;32m     45\u001b[0m \u001b[39m# Keeps track of useful statistics\u001b[39;00m\n\u001b[0;32m     46\u001b[0m stats \u001b[39m=\u001b[39m plotting\u001b[39m.\u001b[39mEpisodeStats(\n\u001b[0;32m     47\u001b[0m     episode_lengths\u001b[39m=\u001b[39mnp\u001b[39m.\u001b[39mzeros(num_episodes),\n\u001b[0;32m     48\u001b[0m     episode_rewards\u001b[39m=\u001b[39mnp\u001b[39m.\u001b[39mzeros(num_episodes))    \n",
      "\u001b[1;31mNameError\u001b[0m: name 'defaultdict' is not defined"
     ]
    }
   ],
   "source": [
    "from beerenv import BeerGameEnv\n",
    "from ql import q_learning\n",
    "\n",
    "env = BeerGameEnv()\n",
    "Q, stats = q_learning(env, 500)"
   ]
  },
  {
   "cell_type": "code",
   "execution_count": null,
   "metadata": {},
   "outputs": [],
   "source": []
  }
 ],
 "metadata": {
  "kernelspec": {
   "display_name": "Python 3.9.12 ('base')",
   "language": "python",
   "name": "python3"
  },
  "language_info": {
   "codemirror_mode": {
    "name": "ipython",
    "version": 3
   },
   "file_extension": ".py",
   "mimetype": "text/x-python",
   "name": "python",
   "nbconvert_exporter": "python",
   "pygments_lexer": "ipython3",
   "version": "3.9.12"
  },
  "orig_nbformat": 4,
  "vscode": {
   "interpreter": {
    "hash": "5b5a4e91612dee454b95c1e8a38b1ec78bebd4b3da05c68e94500df9b2c81242"
   }
  }
 },
 "nbformat": 4,
 "nbformat_minor": 2
}
